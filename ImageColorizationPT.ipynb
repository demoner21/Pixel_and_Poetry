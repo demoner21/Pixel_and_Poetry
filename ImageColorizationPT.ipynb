{
 "cells": [
  {
   "cell_type": "markdown",
   "id": "32f3aeb4",
   "metadata": {},
   "source": [
    "# Colorização de Imagem com OpenCV:\n",
    "\n",
    "Este código tem tudo a ver com a colorização de uma imagem em tons de cinza usando um modelo de rede neural profunda pré-treinado. Vamos detalhar passo a passo:\n",
    "\n",
    "1. **Importação de bibliotecas:**\n",
    "   - «numpy» para operações numéricas.\n",
    "   - 'matplotlib.pyplot' para plotagem de imagens.\n",
    "   - 'cv2' (OpenCV) para tarefas de visão computacional.\n",
    "\n",
    "2. **Carregando a imagem de teste:**\n",
    "   - Lê uma imagem em tons de cinza especificada pelo caminho do arquivo usando OpenCV.\n",
    "   - Verifica se a imagem foi carregada com sucesso.\n",
    "\n",
    "3. **Exibindo Imagem Original:**\n",
    "   - Se a imagem for carregada com sucesso, ela é exibida usando Matplotlib com um colormap cinza e interpolação bicúbica.\n",
    "\n",
    "4. **Definindo caminhos para modelo e dados:**\n",
    "   - Especifica caminhos para o modelo Caffe, arquivo prototxt e arquivo numpy.\n",
    "\n",
    "5. **Carregando o modelo Caffe:**\n",
    "   - Lê o modelo Caffe e configura algumas camadas para colorização.\n",
    "\n",
    "6. **Pré-processamento de imagem:**\n",
    "   - Lê a imagem de teste novamente e converte-a de BGR para escala de cinza e, em seguida, para o formato RGB usando OpenCV.\n",
    "   - Normaliza os valores da imagem.\n",
    "   - Converte a imagem RGB em formato LAB.\n",
    "7. **Extraindo o canal L:**\n",
    "   - Redimensiona a imagem LAB.\n",
    "   - Extrai o canal L (luminância) e subtrai 50 dos seus valores.\n",
    "\n",
    "8. **Prevendo canais a e b:**\n",
    "   - Define o canal L como entrada para a rede pré-treinada.\n",
    "   - Prevê os canais 'a' e 'b' para colorização.\n",
    "\n",
    "9. **Combinação de canais:**\n",
    "   - Combina o canal L original com os canais 'a' e 'b' previstos para criar uma imagem LAB colorida.\n",
    "10. **Convertendo LAB para RGB:**\n",
    "    - Converte a imagem LAB de volta para o formato RGB.\n",
    "\n",
    "11. **Ajustando os valores de pixel:**\n",
    "    - Clipa e dimensiona valores de pixel para o intervalo [0, 255].\n",
    "\n",
    "12. **Exibindo imagem colorida:**\n",
    "    - Exibe a imagem colorida usando Matplotlib.\n",
    "\n",
    "13. **Salvando a imagem colorida:**\n",
    "    - Converte a imagem RGB para o formato BGR (convenção OpenCV) e salva-a no caminho de saída especificado.\n",
    "Em resumo, o código pega uma imagem em tons de cinza, processa-a através de uma rede neural pré-treinada para prever canais de cores e, em seguida, exibe e salva a imagem colorida resultante."
   ]
  },
  {
   "cell_type": "code",
   "execution_count": null,
   "id": "8fa6ef6d",
   "metadata": {},
   "outputs": [],
   "source": [
    "# Importing libraries\n",
    "import numpy as np\n",
    "import matplotlib.pyplot as plt\n",
    "import cv2"
   ]
  },
  {
   "cell_type": "markdown",
   "id": "e18eebb4",
   "metadata": {},
   "source": [
    "  **Importação de bibliotecas:**\n",
    "   - «numpy» para operações numéricas.\n",
    "   - A importação de numpy dá-lhe acesso a operações numéricas eficientes e matrizes multidimensionais.\n",
    "    \n",
    "   - 'matplotlib.pyplot' para plotagem de imagens.\n",
    "   - Matplotlib.pyplot, comumente conhecido como plt, é usado para visualização de dados, permitindo que você plote imagens e gráficos facilmente. \n",
    "   \n",
    "   - 'cv2' (OpenCV) para tarefas de visão computacional.\n",
    "   - CV2, ou OpenCV, é uma biblioteca robusta de visão computacional, facilitando o processamento complexo de imagens, aplicações de visão de máquina e computação gráfica.\n",
    " \n",
    " Essas bibliotecas capacitam coletivamente os desenvolvedores com um rico kit de ferramentas para diversas tarefas computacionais."
   ]
  },
  {
   "cell_type": "code",
   "execution_count": null,
   "id": "d1c51167",
   "metadata": {},
   "outputs": [],
   "source": [
    "# Name of testing image\n",
    "image_path = 'whale.jpg'\n",
    "\n",
    "# Load the image\n",
    "test_image = cv2.imread(image_path, cv2.IMREAD_GRAYSCALE)\n",
    "\n",
    "# Check if the image is loaded successfully\n",
    "if test_image is not None:\n",
    "    # Display the image with gray colormap and bicubic interpolation\n",
    "    plt.imshow(test_image, cmap='gray', interpolation='bicubic')\n",
    "    plt.axis('off')\n",
    "    plt.show()\n",
    "else:\n",
    "    print(\"Error: Unable to load the image.\")"
   ]
  },
  {
   "cell_type": "markdown",
   "id": "5edcaa0e",
   "metadata": {},
   "source": [
    "### **Displaying the Original Image:**\n",
    "\n",
    "   - This segment handles image loading and verification. The image_path variable holds the file name in this case 'whale.jpg.' The image is loaded using OpenCV's cv2.imread() function, with the flag cv2.IMREAD_GRAYSCALE and stored in the test_image variable, indicating that it should be read as a grayscale image. The script then checks if the image is successfully loaded. If it is, the image is displayed using Matplotlib with a gray colormap and bicubic interpolation. In case of any loading issues, an error message is printed."
   ]
  },
  {
   "cell_type": "code",
   "execution_count": null,
   "id": "41f4fb78",
   "metadata": {},
   "outputs": [],
   "source": [
    "# Path of our caffemodel, prototxt, and numpy files\n",
    "prototxt = \"colorization_deploy_v2.prototxt\"\n",
    "caffe_model = \"colorization_release_v2.caffemodel\"\n",
    "pts_npy = \"pts_in_hull.npy\"\n",
    "\n",
    "test_image =  \"test_samples/\" + image_path\n",
    "\n",
    "# Loading our model\n",
    "net = cv2.dnn.readNetFromCaffe(prototxt, caffe_model)\n",
    "pts = np.load(pts_npy)\n",
    " \n",
    "layer1 = net.getLayerId(\"class8_ab\")\n",
    "print(layer1)\n",
    "layer2 = net.getLayerId(\"conv8_313_rh\")\n",
    "print(layer2)\n",
    "pts = pts.transpose().reshape(2, 313, 1, 1)\n",
    "net.getLayer(layer1).blobs = [pts.astype(\"float32\")]\n",
    "net.getLayer(layer2).blobs = [np.full([1, 313], 2.606, dtype=\"float32\")]"
   ]
  },
  {
   "cell_type": "markdown",
   "id": "5e2e621a",
   "metadata": {},
   "source": [
    "### Estrutura de aprendizagem profunda de configuração\n",
    "\n",
    "- Neste segmento o foco está na configuração do modelo de colorização para posterior processamento da imagem. Caminhos para o arquivo prototxt (\"colorization_deploy_v2.prototxt\"), arquivo caffemodel (\"colorization_release_v2.caffemodel\") e arquivo numpy contendo pontos de cores (\"pts_in_hull.npy\") são estabelecidos. Além disso, o caminho da imagem de teste é gerado anexando o caminho da imagem original ao diretório \"test_samples\".\n",
    "\n",
    "- O modelo de colorização é carregado usando a função cv2.dnn.readNetFromCaffe do OpenCV, e os pontos de cor são carregados na variável pts usando NumPy. Os IDs de camada para \"class8_ab\" e \"conv8_313_rh\" são recuperados e os pontos de cores são adequadamente remodelados e atribuídos a essas camadas dentro do modelo. Esta seção estabelece as bases para o processo de colorização subsequente."
   ]
  },
  {
   "cell_type": "markdown",
   "id": "d89b76d3",
   "metadata": {},
   "source": [
    "### Modelo e dados:\n",
    "\n",
    "- Indo um pouco mais fundo, Caffe é conhecido por sua modularidade e expressividade. É como ter um conjunto de blocos LEGO para construir modelos complexos para diversas tarefas, como classificação de imagens ou detecção de objetos.\n",
    "\n",
    "- prototxt é um componente crucial na estrutura do Caffe. pense nisso como o modelo para a construção de redes neurais em Caffe. É um arquivo de texto que define a estrutura e os parâmetros da rede. Assim como uma receita com uma lista de ingredientes e instruções, permite que pesquisadores e desenvolvedores definam a arquitetura de uma rede neural sem se aprofundar em códigos complexos. É como um documento que descreve as camadas, seus tipos, tamanhos e conexões de forma clara e organizada.\n",
    "\n",
    "- Pense em pts_in_hull.npy como um mapa colorido secreto que armazena informações específicas na memória do seu computador. Este tipo de arquivo torna-se especialmente relevante em cenários onde a eficiência computacional é crucial, como processamento de imagens em tempo real ou tarefas avançadas de manipulação de núcleos."
   ]
  },
  {
   "cell_type": "markdown",
   "id": "97400338",
   "metadata": {},
   "source": [
    "#### Esses identificadores, \"class8_ab\" e \"conv8_313_rh\", correspondem a camadas específicas na rede neural de colorização. Vamos detalhar suas funções:\n",
    "\n",
    "#### 1.\"class8_ab\" Camada:\n",
    "\n",
    "- Esta camada tem a tarefa principal de prever os canais 'a' e 'b' dentro do espaço de cores LAB.\n",
    "- Determina essencialmente as características cromáticas da imagem, especificando como devem ser aplicadas as variações de cor.\n",
    "- Operando como elemento crítico nos estágios iniciais da colorização, \"class8_ab\" estabelece as bases para o refinamento subsequente."
   ]
  },
  {
   "cell_type": "markdown",
   "id": "e7095597",
   "metadata": {},
   "source": [
    "#### 2.\"conv8_313_rh\" Camada:\n",
    "\n",
    "- Posicionado como camada de refinamento na arquitetura da rede neural.\n",
    "- Sua função envolve o ajuste fino e o aprimoramento das previsões iniciais de cores geradas pela camada \"class8_ab\".\n",
    "- Ao ajustar meticulosamente os detalhes das cores, \"conv8_313_rh\" contribui para a criação de uma saída colorida de alta qualidade e visualmente atraente.\n",
    "\n",
    "- Em essência, essas camadas orquestram de forma colaborativa o intrincado processo de transformação de uma imagem em tons de cinza em uma representação ricamente colorida."
   ]
  },
  {
   "cell_type": "code",
   "execution_count": null,
   "id": "18d39919",
   "metadata": {},
   "outputs": [],
   "source": [
    "# Converting the image into RGB and plotting it\n",
    "# Read image from the path\n",
    "test_image = cv2.imread(test_image)\n",
    "# Convert image into gray scale\n",
    "test_image = cv2.cvtColor(test_image, cv2.COLOR_BGR2GRAY)\n",
    "# Convert image from gray scale to RGB format\n",
    "test_image = cv2.cvtColor(test_image, cv2.COLOR_GRAY2RGB)\n",
    "# Check image using matplotlib\n",
    "plt.imshow(test_image)\n",
    "plt.axis('off')\n",
    "plt.show()"
   ]
  },
  {
   "cell_type": "markdown",
   "id": "ffda746f",
   "metadata": {},
   "source": [
    "### Pré-processamento de imagem:\n",
    "1. **Lendo a imagem:**\n",
    "    - A imagem é carregada do caminho especificado usando a função cv2.imread() do OpenCV e armazenada na variável test_image.\n",
    "\n",
    "2. **Conversão em escala de cinza:**\n",
    "    - A imagem carregada, inicialmente no formato BGR (azul, verde, vermelho), passa por conversão para tons de cinza utilizando cv2.cvtColor().\n",
    "\n",
    "3. **Conversão RGB:**\n",
    "    - A imagem em tons de cinza é posteriormente convertida para o formato RGB usando cv2.cvtColor() novamente, desta vez com a flag cv2.COLOR_GRAY2RGB.\n",
    "\n",
    "4. **Exibindo a imagem:**\n",
    "    - Matplotlib é utilizado para visualizar a imagem RGB. A função plt.imshow() é utilizada e os rótulos dos eixos são desligados (plt.axis('off')) para apresentar uma representação limpa e focada da imagem transformada. Finalmente, a imagem é exibida usando plt.show()."
   ]
  },
  {
   "cell_type": "code",
   "execution_count": null,
   "id": "f7a074af",
   "metadata": {},
   "outputs": [],
   "source": [
    "# Converting the RGB image into LAB format\n",
    "# Normalizing the image\n",
    "normalized = test_image.astype(\"float32\") / 255.0\n",
    "# Converting the image into LAB\n",
    "lab_image = cv2.cvtColor(normalized, cv2.COLOR_RGB2LAB)\n",
    "# Resizing the image\n",
    "resized = cv2.resize(lab_image, (224, 224), interpolation=cv2.INTER_CUBIC)\n",
    "# Extracting the value of L for LAB image\n",
    "L = cv2.split(resized)[0]\n",
    "L -= 50   # OR we can write L = L - 50"
   ]
  },
  {
   "cell_type": "markdown",
   "id": "1f71618e",
   "metadata": {},
   "source": [
    "Primeiro, garantimos que todas as cores sigam as mesmas regras, como 0 a 1. Isso é chamado de normalização. Em seguida, transformamos a imagem no formato LAB, que é como um código de cores especial.\n",
    "\n",
    "2. **Normalizando a imagem:**\n",
    "   - Usando cv2.cvtColor(), a imagem normalizada é convertida do espaço de cores RGB para LAB, uma representação de cores que separa a luminância (L) da informação cromática (canais a e b).\n",
    "\n",
    "2. **Redimensionando a imagem:**\n",
    "   - A imagem LAB passa por uma operação de redimensionamento, ajustando suas dimensões para 224x224 através de cv2.resize(). O método de interpolação utilizado é cúbico para transições mais suaves.\n",
    "\n",
    "3. **Extraindo Canal L:**\n",
    "   - O canal de luminância (L), representando o brilho da imagem, é extraído da imagem LAB redimensionada usando cv2.split().\n",
    "\n",
    "4. **Ajustando o canal L:**\n",
    "   - Os valores de luminância são modificados subtraindo 50, escurecendo efetivamente o brilho geral. Alternativamente, este ajuste poderia ser expresso como L = L - 50. Esta etapa contribui para o equilíbrio tonal geral da imagem."
   ]
  },
  {
   "cell_type": "code",
   "execution_count": null,
   "id": "9aa8af98",
   "metadata": {},
   "outputs": [],
   "source": [
    "# Predicting a and b values\n",
    "# Setting input\n",
    "net.setInput(cv2.dnn.blobFromImage(L))\n",
    "# Finding the values of 'a' and 'b'\n",
    "ab = net.forward()[0, :, :, :].transpose((1, 2, 0))\n",
    "# Resizing\n",
    "ab = cv2.resize(ab, (test_image.shape[1], test_image.shape[0]))"
   ]
  },
  {
   "cell_type": "markdown",
   "id": "4063efe3",
   "metadata": {},
   "source": [
    "Tudo bem, então temos este assistente de cores superinteligente e queremos que ele preveja quais cores devem corresponder ao brilho da sua imagem. Preparamos a parte de brilho, passamos para o assistente e ele informa os valores ‘a’ e ‘b’, que são como códigos secretos para cores. Depois disso, redimensionamos as previsões de cores para corresponder ao tamanho da imagem original.\n",
    "\n",
    "1. **Entrada de configuração:**\n",
    "    - Os valores de luminância (canal L), indicativos do brilho da imagem, são definidos como entrada para a rede neural usando net.setInput().\n",
    "\n",
    "2. **Previsão de valores 'a' e 'b':**\n",
    "    - A rede neural é então utilizada para prever os valores 'a' e 'b' associados à colorização por meio de net.forward(). O array resultante é de estrutura 3D e é transposto para reorganizar suas dimensões.\n",
    "\n",
    "3. **Redimensionamento:**\n",
    "    - Os valores previstos de 'a' e 'b' passam por uma operação de redimensionamento para garantir o alinhamento com as dimensões originais da imagem de teste. Esta etapa é crucial para integrar perfeitamente as previsões de cores na saída final colorida."
   ]
  },
  {
   "cell_type": "code",
   "execution_count": null,
   "id": "8164b6e5",
   "metadata": {},
   "outputs": [],
   "source": [
    "# Combining L, a, and b channels\n",
    "L = cv2.split(lab_image)[0]\n",
    "# Combining L,a,b\n",
    "LAB_colored = np.concatenate((L[:, :, np.newaxis], ab), axis=2)\n",
    "# Checking the LAB image\n",
    "plt.imshow(LAB_colored)\n",
    "plt.title('LAB image')\n",
    "plt.axis('off')\n",
    "plt.show()\n"
   ]
  },
  {
   "cell_type": "markdown",
   "id": "634b5c4d",
   "metadata": {},
   "source": [
    "### Imagem do LABORATÓRIO:\n",
    "\n",
    "Então agora temos estas partes separadas da nossa imagem: o brilho, o código secreto para a cor ‘a’ e o código secreto para a cor ‘b’. Agora vamos juntar as peças, usando este código para mesclá-las, criando uma imagem colorida em formato LAB.\n",
    "\n",
    "1. **Extraindo Canal L:**\n",
    "    - O canal de luminância ('L') é extraído da imagem LAB usando cv2.split().\n",
    "\n",
    "2. **Combinando Canais:**\n",
    "    - O canal 'L' é combinado com os valores 'a' e 'b' previamente previstos usando np.concatenate(). Esta operação resulta em uma imagem colorida LAB de 3 canais, encapsulando informações de brilho e cor.\n",
    "\n",
    "3. **Visualizando a imagem do LAB:**\n",
    "    - A imagem colorida LAB é visualizada usando Matplotlib, com o eixo desligado para uma apresentação mais simplificada. O título 'imagem LAB' é incorporado para denotar o espaço de cores, fornecendo uma referência clara para a compreensão da composição da imagem exibida."
   ]
  },
  {
   "cell_type": "code",
   "execution_count": null,
   "id": "0d0ef603",
   "metadata": {},
   "outputs": [],
   "source": [
    "## Converting LAB image to RGB\n",
    "RGB_colored = cv2.cvtColor(LAB_colored, cv2.COLOR_LAB2RGB)\n",
    "# Limits the values in array\n",
    "RGB_colored = np.clip(RGB_colored, 0, 1)\n",
    "# Changing the pixel intensity back to [0,255], as we did scaling during pre-processing and converted the pixel intensity to [0,1]\n",
    "RGB_colored = (255 * RGB_colored).astype(\"uint8\")\n",
    "# Checking the image\n",
    "plt.imshow(RGB_colored)\n",
    "plt.title('Colored Image')\n",
    "plt.axis('off')\n",
    "plt.show()"
   ]
  },
  {
   "cell_type": "markdown",
   "id": "be0f8df7",
   "metadata": {},
   "source": [
    "Por fim, transformaremos nossa obra-prima do LAB e agora é hora de torná-la compreensível para todos. usando nossas habilidades de codificação para convertê-la novamente em uma imagem RGB normal. Mas não queremos cores selvagens, por isso vamos estabelecer alguns limites. Depois, ajustaremos a intensidade da cor de volta ao normal e pronto!\n",
    "\n",
    "1. **Conversão de LAB para RGB:**\n",
    "    - A imagem colorida LAB é transformada novamente para o formato RGB usando cv2.cvtColor().\n",
    "\n",
    "2. **Valores Limites:**\n",
    "    - Os valores na matriz de cores RGB são cortados para garantir que permaneçam dentro do intervalo válido de 0 a 1.\n",
    "\n",
    "3. **Escalonamento da intensidade do pixel:**\n",
    "    - Os valores de intensidade de pixel são redimensionados da faixa normalizada (0 a 1) para a escala original (0 a 255). Isso envolve multiplicar por 255 e converter o resultado no tipo de dados “uint8”.\n",
    "\n",
    "4. **Visualizando a imagem colorida:**\n",
    "    - A imagem final colorida RGB é visualizada usando Matplotlib. O eixo está desligado para uma apresentação mais limpa e o título 'Imagem colorida' é incluído para contexto e clareza."
   ]
  },
  {
   "cell_type": "code",
   "execution_count": null,
   "id": "52f992ea",
   "metadata": {},
   "outputs": [],
   "source": [
    "# Saving the colored image\n",
    "# Converting RGB to BGR\n",
    "RGB_BGR = cv2.cvtColor(RGB_colored, cv2.COLOR_RGB2BGR)\n",
    "# Saving the image in the desired path\n",
    "outImage = 'outImg.jpeg'\n",
    "\n",
    "cv2.imwrite(outImage, RGB_BGR)"
   ]
  },
  {
   "cell_type": "code",
   "execution_count": null,
   "id": "606c5f62",
   "metadata": {},
   "outputs": [],
   "source": [
    "## Aproveitar:\n",
    "Nesta parte final, o código aborda a etapa final do processo de colorização: salvar a imagem colorida.\n",
    "\n",
    "1. **Convertendo RGB em BGR:**\n",
    "    - A imagem colorida RGB é convertida para o formato BGR usando cv2.cvtColor(). Esta conversão é essencial porque o OpenCV convencionalmente espera imagens no formato BGR para serem salvas.\n",
    "\n",
    "2. **Salvando a imagem:**\n",
    "    - A imagem colorida é salva no caminho especificado ('outImg.jpeg') usando cv2.imwrite(). Esta etapa encapsula todo o fluxo de trabalho de colorização, produzindo uma saída tangível armazenada para referência ou distribuição futura."
   ]
  }
 ],
 "metadata": {
  "kernelspec": {
   "display_name": "Python 3 (ipykernel)",
   "language": "python",
   "name": "python3"
  },
  "language_info": {
   "codemirror_mode": {
    "name": "ipython",
    "version": 3
   },
   "file_extension": ".py",
   "mimetype": "text/x-python",
   "name": "python",
   "nbconvert_exporter": "python",
   "pygments_lexer": "ipython3",
   "version": "3.10.12"
  }
 },
 "nbformat": 4,
 "nbformat_minor": 5
}
